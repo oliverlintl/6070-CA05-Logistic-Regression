{
  "nbformat": 4,
  "nbformat_minor": 0,
  "metadata": {
    "colab": {
      "name": "CA05.ipynb",
      "provenance": [],
      "collapsed_sections": [
        "V1tp7mV6ZWOI"
      ]
    },
    "kernelspec": {
      "name": "python3",
      "display_name": "Python 3"
    },
    "language_info": {
      "name": "python"
    }
  },
  "cells": [
    {
      "cell_type": "code",
      "execution_count": null,
      "metadata": {
        "id": "wPkg6Q_8XZFN"
      },
      "outputs": [],
      "source": [
        "import pandas as pd\n",
        "import numpy as np\n",
        "import seaborn as sns\n",
        "import matplotlib.pyplot as plt \n",
        "from os import XATTR_CREATE\n",
        "from pandas.core.common import random_state\n",
        "from sklearn.utils.extmath import randomized_range_finder\n",
        "from imblearn.over_sampling import SMOTE\n",
        "from sklearn.feature_selection import RFE\n",
        "from sklearn.linear_model import LogisticRegression\n",
        "from sklearn.model_selection import train_test_split\n",
        "from sklearn.metrics import confusion_matrix\n",
        "from sklearn.metrics import accuracy_score\n",
        "from sklearn.metrics import recall_score\n",
        "from sklearn.metrics import precision_score\n",
        "from sklearn.metrics import f1_score\n",
        "from sklearn.metrics import classification_report\n",
        "from sklearn.metrics import plot_roc_curve\n",
        "import statsmodels.api as sm\n",
        "from sklearn.model_selection import RepeatedStratifiedKFold\n",
        "from sklearn.model_selection import GridSearchCV\n",
        "from sklearn.ensemble import RandomForestClassifier"
      ]
    },
    {
      "cell_type": "code",
      "source": [
        "url = 'https://github.com/ArinB/CA05-B-Logistic-Regression/raw/master/cvd_data.csv'\n",
        "df = pd.read_csv(url)\n",
        "df.head()"
      ],
      "metadata": {
        "colab": {
          "base_uri": "https://localhost:8080/",
          "height": 206
        },
        "id": "1QlGjvVDX7Wo",
        "outputId": "388d0d04-b0d7-4ac8-d09d-ad3592cd9c7c"
      },
      "execution_count": null,
      "outputs": [
        {
          "output_type": "execute_result",
          "data": {
            "text/plain": [
              "   cvd_4types  age_s1  race  educat  mstat    hip  neck20  waist  \\\n",
              "0           0      54     1       2      1  110.0    40.0  108.0   \n",
              "1           0      56     3       2      1  113.0    34.0  107.0   \n",
              "2           0      54     1       3      1  110.0    44.5  105.0   \n",
              "3           0      54     1       3      1  129.0    42.5  110.0   \n",
              "4           0      51     3       2      1  122.0    37.0  113.0   \n",
              "\n",
              "   av_weight_kg  cgpkyr  tea15  srhype  parrptdiab  bend25  happy25  tired25  \\\n",
              "0          87.5    34.0      0       1           0       1        2        3   \n",
              "1          83.5     0.0      0       0           0       2        2        1   \n",
              "2          86.2    49.5      0       0           0       3        2        6   \n",
              "3          89.1     0.0      0       0           0       3        2        1   \n",
              "4          81.3     0.0      0       0           0       2        1        1   \n",
              "\n",
              "   hlthlm25  \n",
              "0         4  \n",
              "1         3  \n",
              "2         4  \n",
              "3         3  \n",
              "4         2  "
            ],
            "text/html": [
              "\n",
              "  <div id=\"df-80c733f2-df31-4fc2-a850-2b8c495aa779\">\n",
              "    <div class=\"colab-df-container\">\n",
              "      <div>\n",
              "<style scoped>\n",
              "    .dataframe tbody tr th:only-of-type {\n",
              "        vertical-align: middle;\n",
              "    }\n",
              "\n",
              "    .dataframe tbody tr th {\n",
              "        vertical-align: top;\n",
              "    }\n",
              "\n",
              "    .dataframe thead th {\n",
              "        text-align: right;\n",
              "    }\n",
              "</style>\n",
              "<table border=\"1\" class=\"dataframe\">\n",
              "  <thead>\n",
              "    <tr style=\"text-align: right;\">\n",
              "      <th></th>\n",
              "      <th>cvd_4types</th>\n",
              "      <th>age_s1</th>\n",
              "      <th>race</th>\n",
              "      <th>educat</th>\n",
              "      <th>mstat</th>\n",
              "      <th>hip</th>\n",
              "      <th>neck20</th>\n",
              "      <th>waist</th>\n",
              "      <th>av_weight_kg</th>\n",
              "      <th>cgpkyr</th>\n",
              "      <th>tea15</th>\n",
              "      <th>srhype</th>\n",
              "      <th>parrptdiab</th>\n",
              "      <th>bend25</th>\n",
              "      <th>happy25</th>\n",
              "      <th>tired25</th>\n",
              "      <th>hlthlm25</th>\n",
              "    </tr>\n",
              "  </thead>\n",
              "  <tbody>\n",
              "    <tr>\n",
              "      <th>0</th>\n",
              "      <td>0</td>\n",
              "      <td>54</td>\n",
              "      <td>1</td>\n",
              "      <td>2</td>\n",
              "      <td>1</td>\n",
              "      <td>110.0</td>\n",
              "      <td>40.0</td>\n",
              "      <td>108.0</td>\n",
              "      <td>87.5</td>\n",
              "      <td>34.0</td>\n",
              "      <td>0</td>\n",
              "      <td>1</td>\n",
              "      <td>0</td>\n",
              "      <td>1</td>\n",
              "      <td>2</td>\n",
              "      <td>3</td>\n",
              "      <td>4</td>\n",
              "    </tr>\n",
              "    <tr>\n",
              "      <th>1</th>\n",
              "      <td>0</td>\n",
              "      <td>56</td>\n",
              "      <td>3</td>\n",
              "      <td>2</td>\n",
              "      <td>1</td>\n",
              "      <td>113.0</td>\n",
              "      <td>34.0</td>\n",
              "      <td>107.0</td>\n",
              "      <td>83.5</td>\n",
              "      <td>0.0</td>\n",
              "      <td>0</td>\n",
              "      <td>0</td>\n",
              "      <td>0</td>\n",
              "      <td>2</td>\n",
              "      <td>2</td>\n",
              "      <td>1</td>\n",
              "      <td>3</td>\n",
              "    </tr>\n",
              "    <tr>\n",
              "      <th>2</th>\n",
              "      <td>0</td>\n",
              "      <td>54</td>\n",
              "      <td>1</td>\n",
              "      <td>3</td>\n",
              "      <td>1</td>\n",
              "      <td>110.0</td>\n",
              "      <td>44.5</td>\n",
              "      <td>105.0</td>\n",
              "      <td>86.2</td>\n",
              "      <td>49.5</td>\n",
              "      <td>0</td>\n",
              "      <td>0</td>\n",
              "      <td>0</td>\n",
              "      <td>3</td>\n",
              "      <td>2</td>\n",
              "      <td>6</td>\n",
              "      <td>4</td>\n",
              "    </tr>\n",
              "    <tr>\n",
              "      <th>3</th>\n",
              "      <td>0</td>\n",
              "      <td>54</td>\n",
              "      <td>1</td>\n",
              "      <td>3</td>\n",
              "      <td>1</td>\n",
              "      <td>129.0</td>\n",
              "      <td>42.5</td>\n",
              "      <td>110.0</td>\n",
              "      <td>89.1</td>\n",
              "      <td>0.0</td>\n",
              "      <td>0</td>\n",
              "      <td>0</td>\n",
              "      <td>0</td>\n",
              "      <td>3</td>\n",
              "      <td>2</td>\n",
              "      <td>1</td>\n",
              "      <td>3</td>\n",
              "    </tr>\n",
              "    <tr>\n",
              "      <th>4</th>\n",
              "      <td>0</td>\n",
              "      <td>51</td>\n",
              "      <td>3</td>\n",
              "      <td>2</td>\n",
              "      <td>1</td>\n",
              "      <td>122.0</td>\n",
              "      <td>37.0</td>\n",
              "      <td>113.0</td>\n",
              "      <td>81.3</td>\n",
              "      <td>0.0</td>\n",
              "      <td>0</td>\n",
              "      <td>0</td>\n",
              "      <td>0</td>\n",
              "      <td>2</td>\n",
              "      <td>1</td>\n",
              "      <td>1</td>\n",
              "      <td>2</td>\n",
              "    </tr>\n",
              "  </tbody>\n",
              "</table>\n",
              "</div>\n",
              "      <button class=\"colab-df-convert\" onclick=\"convertToInteractive('df-80c733f2-df31-4fc2-a850-2b8c495aa779')\"\n",
              "              title=\"Convert this dataframe to an interactive table.\"\n",
              "              style=\"display:none;\">\n",
              "        \n",
              "  <svg xmlns=\"http://www.w3.org/2000/svg\" height=\"24px\"viewBox=\"0 0 24 24\"\n",
              "       width=\"24px\">\n",
              "    <path d=\"M0 0h24v24H0V0z\" fill=\"none\"/>\n",
              "    <path d=\"M18.56 5.44l.94 2.06.94-2.06 2.06-.94-2.06-.94-.94-2.06-.94 2.06-2.06.94zm-11 1L8.5 8.5l.94-2.06 2.06-.94-2.06-.94L8.5 2.5l-.94 2.06-2.06.94zm10 10l.94 2.06.94-2.06 2.06-.94-2.06-.94-.94-2.06-.94 2.06-2.06.94z\"/><path d=\"M17.41 7.96l-1.37-1.37c-.4-.4-.92-.59-1.43-.59-.52 0-1.04.2-1.43.59L10.3 9.45l-7.72 7.72c-.78.78-.78 2.05 0 2.83L4 21.41c.39.39.9.59 1.41.59.51 0 1.02-.2 1.41-.59l7.78-7.78 2.81-2.81c.8-.78.8-2.07 0-2.86zM5.41 20L4 18.59l7.72-7.72 1.47 1.35L5.41 20z\"/>\n",
              "  </svg>\n",
              "      </button>\n",
              "      \n",
              "  <style>\n",
              "    .colab-df-container {\n",
              "      display:flex;\n",
              "      flex-wrap:wrap;\n",
              "      gap: 12px;\n",
              "    }\n",
              "\n",
              "    .colab-df-convert {\n",
              "      background-color: #E8F0FE;\n",
              "      border: none;\n",
              "      border-radius: 50%;\n",
              "      cursor: pointer;\n",
              "      display: none;\n",
              "      fill: #1967D2;\n",
              "      height: 32px;\n",
              "      padding: 0 0 0 0;\n",
              "      width: 32px;\n",
              "    }\n",
              "\n",
              "    .colab-df-convert:hover {\n",
              "      background-color: #E2EBFA;\n",
              "      box-shadow: 0px 1px 2px rgba(60, 64, 67, 0.3), 0px 1px 3px 1px rgba(60, 64, 67, 0.15);\n",
              "      fill: #174EA6;\n",
              "    }\n",
              "\n",
              "    [theme=dark] .colab-df-convert {\n",
              "      background-color: #3B4455;\n",
              "      fill: #D2E3FC;\n",
              "    }\n",
              "\n",
              "    [theme=dark] .colab-df-convert:hover {\n",
              "      background-color: #434B5C;\n",
              "      box-shadow: 0px 1px 3px 1px rgba(0, 0, 0, 0.15);\n",
              "      filter: drop-shadow(0px 1px 2px rgba(0, 0, 0, 0.3));\n",
              "      fill: #FFFFFF;\n",
              "    }\n",
              "  </style>\n",
              "\n",
              "      <script>\n",
              "        const buttonEl =\n",
              "          document.querySelector('#df-80c733f2-df31-4fc2-a850-2b8c495aa779 button.colab-df-convert');\n",
              "        buttonEl.style.display =\n",
              "          google.colab.kernel.accessAllowed ? 'block' : 'none';\n",
              "\n",
              "        async function convertToInteractive(key) {\n",
              "          const element = document.querySelector('#df-80c733f2-df31-4fc2-a850-2b8c495aa779');\n",
              "          const dataTable =\n",
              "            await google.colab.kernel.invokeFunction('convertToInteractive',\n",
              "                                                     [key], {});\n",
              "          if (!dataTable) return;\n",
              "\n",
              "          const docLinkHtml = 'Like what you see? Visit the ' +\n",
              "            '<a target=\"_blank\" href=https://colab.research.google.com/notebooks/data_table.ipynb>data table notebook</a>'\n",
              "            + ' to learn more about interactive tables.';\n",
              "          element.innerHTML = '';\n",
              "          dataTable['output_type'] = 'display_data';\n",
              "          await google.colab.output.renderOutput(dataTable, element);\n",
              "          const docLink = document.createElement('div');\n",
              "          docLink.innerHTML = docLinkHtml;\n",
              "          element.appendChild(docLink);\n",
              "        }\n",
              "      </script>\n",
              "    </div>\n",
              "  </div>\n",
              "  "
            ]
          },
          "metadata": {},
          "execution_count": 88
        }
      ]
    },
    {
      "cell_type": "markdown",
      "source": [
        "variable meanings: \n",
        "https://sleepdata.org/datasets/shhs/variables"
      ],
      "metadata": {
        "id": "YQUkeldCf9vN"
      }
    },
    {
      "cell_type": "markdown",
      "source": [
        "# Brief EDA"
      ],
      "metadata": {
        "id": "V1tp7mV6ZWOI"
      }
    },
    {
      "cell_type": "code",
      "source": [
        "df.info()"
      ],
      "metadata": {
        "colab": {
          "base_uri": "https://localhost:8080/"
        },
        "id": "NeWA6JRCYCq_",
        "outputId": "08a2535f-8dcd-4b09-ab69-348449734ece"
      },
      "execution_count": null,
      "outputs": [
        {
          "output_type": "stream",
          "name": "stdout",
          "text": [
            "<class 'pandas.core.frame.DataFrame'>\n",
            "RangeIndex: 3242 entries, 0 to 3241\n",
            "Data columns (total 17 columns):\n",
            " #   Column        Non-Null Count  Dtype  \n",
            "---  ------        --------------  -----  \n",
            " 0   cvd_4types    3242 non-null   int64  \n",
            " 1   age_s1        3242 non-null   int64  \n",
            " 2   race          3242 non-null   int64  \n",
            " 3   educat        3242 non-null   int64  \n",
            " 4   mstat         3242 non-null   int64  \n",
            " 5   hip           3242 non-null   float64\n",
            " 6   neck20        3242 non-null   float64\n",
            " 7   waist         3242 non-null   float64\n",
            " 8   av_weight_kg  3242 non-null   float64\n",
            " 9   cgpkyr        3242 non-null   float64\n",
            " 10  tea15         3242 non-null   int64  \n",
            " 11  srhype        3242 non-null   int64  \n",
            " 12  parrptdiab    3242 non-null   int64  \n",
            " 13  bend25        3242 non-null   int64  \n",
            " 14  happy25       3242 non-null   int64  \n",
            " 15  tired25       3242 non-null   int64  \n",
            " 16  hlthlm25      3242 non-null   int64  \n",
            "dtypes: float64(5), int64(12)\n",
            "memory usage: 430.7 KB\n"
          ]
        }
      ]
    },
    {
      "cell_type": "code",
      "source": [
        "df.nunique()"
      ],
      "metadata": {
        "colab": {
          "base_uri": "https://localhost:8080/"
        },
        "id": "gcMi9EozZUku",
        "outputId": "a8dfa7ef-0620-4805-e0d6-c7f1b713724d"
      },
      "execution_count": null,
      "outputs": [
        {
          "output_type": "execute_result",
          "data": {
            "text/plain": [
              "cvd_4types        2\n",
              "age_s1           52\n",
              "race              3\n",
              "educat            4\n",
              "mstat             5\n",
              "hip             160\n",
              "neck20          180\n",
              "waist           174\n",
              "av_weight_kg    370\n",
              "cgpkyr          331\n",
              "tea15            15\n",
              "srhype            2\n",
              "parrptdiab        2\n",
              "bend25            3\n",
              "happy25           6\n",
              "tired25           6\n",
              "hlthlm25          5\n",
              "dtype: int64"
            ]
          },
          "metadata": {},
          "execution_count": 90
        }
      ]
    },
    {
      "cell_type": "code",
      "source": [
        "# check dataset balance\n",
        "sns.countplot(x = 'cvd_4types', data = df, palette = 'hls')\n",
        "plt.show()"
      ],
      "metadata": {
        "colab": {
          "base_uri": "https://localhost:8080/"
        },
        "id": "nbBcIrFLbHNX",
        "outputId": "604c2115-c1f5-4c7b-fabd-2e415d974bf3"
      },
      "execution_count": null,
      "outputs": [
        {
          "output_type": "display_data",
          "data": {
            "text/plain": [
              "<Figure size 432x288 with 1 Axes>"
            ],
            "image/png": "[encoded data removed]"
          },
          "metadata": {
            "needs_background": "light"
          }
        }
      ]
    },
    {
      "cell_type": "markdown",
      "source": [
        "As we can see there are more \"1\" - \"Risk Present\" than \"0\" - \"No Risk\". This indicates a imbalance in our dataset. We need to do something about. But we will get to that later. "
      ],
      "metadata": {
        "id": "h0cvLbRKcaf2"
      }
    },
    {
      "cell_type": "code",
      "source": [
        "# race\n",
        "%matplotlib inline\n",
        "pd.crosstab(df.race, df.cvd_4types).plot(kind = 'bar') \n",
        "plt.title('Race of Pacients')\n",
        "plt.xlabel('Race')\n",
        "plt.ylabel('Frequency of Risk')"
      ],
      "metadata": {
        "colab": {
          "base_uri": "https://localhost:8080/"
        },
        "id": "4EyI-r6Qd6Rf",
        "outputId": "851435ce-22ab-4f8c-b4c5-24c7309b4309"
      },
      "execution_count": null,
      "outputs": [
        {
          "output_type": "execute_result",
          "data": {
            "text/plain": [
              "Text(0, 0.5, 'Frequency of Risk')"
            ]
          },
          "metadata": {},
          "execution_count": 92
        },
        {
          "output_type": "display_data",
          "data": {
            "text/plain": [
              "<Figure size 432x288 with 1 Axes>"
            ],
            "image/png": "[encoded data removed]"
          },
          "metadata": {
            "needs_background": "light"
          }
        }
      ]
    },
    {
      "cell_type": "code",
      "source": [
        "# educat\n",
        "%matplotlib inline\n",
        "pd.crosstab(df.educat, df.cvd_4types).plot(kind = 'bar') \n",
        "plt.title('Education of Pacients')\n",
        "plt.xlabel('Education')\n",
        "plt.ylabel('Frequency of Risk')"
      ],
      "metadata": {
        "colab": {
          "base_uri": "https://localhost:8080/"
        },
        "id": "jOiA29rHfhD1",
        "outputId": "0fb6f0e5-06e2-4005-a0e2-e565d3f9bd8d"
      },
      "execution_count": null,
      "outputs": [
        {
          "output_type": "execute_result",
          "data": {
            "text/plain": [
              "Text(0, 0.5, 'Frequency of Risk')"
            ]
          },
          "metadata": {},
          "execution_count": 93
        },
        {
          "output_type": "display_data",
          "data": {
            "text/plain": [
              "<Figure size 432x288 with 1 Axes>"
            ],
            "image/png": "[encoded data removed]"
          },
          "metadata": {
            "needs_background": "light"
          }
        }
      ]
    },
    {
      "cell_type": "code",
      "source": [
        "# marital status\n",
        "%matplotlib inline\n",
        "pd.crosstab(df.mstat, df.cvd_4types).plot(kind = 'bar') \n",
        "plt.title('Marital Status of Pacients')\n",
        "plt.xlabel('Marital Status')\n",
        "plt.ylabel('Frequency of Risk')"
      ],
      "metadata": {
        "colab": {
          "base_uri": "https://localhost:8080/"
        },
        "id": "ypPGTULCfyDP",
        "outputId": "f8923b01-43e1-4f0b-bc87-d254858dd40c"
      },
      "execution_count": null,
      "outputs": [
        {
          "output_type": "execute_result",
          "data": {
            "text/plain": [
              "Text(0, 0.5, 'Frequency of Risk')"
            ]
          },
          "metadata": {},
          "execution_count": 94
        },
        {
          "output_type": "display_data",
          "data": {
            "text/plain": [
              "<Figure size 432x288 with 1 Axes>"
            ],
            "image/png": "[encoded data removed]"
          },
          "metadata": {
            "needs_background": "light"
          }
        }
      ]
    },
    {
      "cell_type": "code",
      "source": [
        "# Self-reported hypertension\n",
        "%matplotlib inline\n",
        "pd.crosstab(df.srhype, df.cvd_4types).plot(kind = 'bar') \n",
        "plt.title('HTN of Pacients')\n",
        "plt.xlabel('HTN')\n",
        "plt.ylabel('Frequency of Risk')"
      ],
      "metadata": {
        "colab": {
          "base_uri": "https://localhost:8080/"
        },
        "id": "n3uhKk-XgS8g",
        "outputId": "224daf74-24d5-44f8-87f7-0c993b4de66a"
      },
      "execution_count": null,
      "outputs": [
        {
          "output_type": "execute_result",
          "data": {
            "text/plain": [
              "Text(0, 0.5, 'Frequency of Risk')"
            ]
          },
          "metadata": {},
          "execution_count": 95
        },
        {
          "output_type": "display_data",
          "data": {
            "text/plain": [
              "<Figure size 432x288 with 1 Axes>"
            ],
            "image/png": "[encoded data removed]"
          },
          "metadata": {
            "needs_background": "light"
          }
        }
      ]
    },
    {
      "cell_type": "code",
      "source": [
        "# age\n",
        "df.age_s1.hist()\n",
        "plt.title('Histogram of Age')\n",
        "plt.xlabel('Age')\n",
        "plt.ylabel('Frequency')\n",
        "# plt.savefig('hist_age')"
      ],
      "metadata": {
        "colab": {
          "base_uri": "https://localhost:8080/"
        },
        "id": "JW1O1pWug5zS",
        "outputId": "abed5d36-409d-4c45-975d-6bac6e2ac5b4"
      },
      "execution_count": null,
      "outputs": [
        {
          "output_type": "execute_result",
          "data": {
            "text/plain": [
              "Text(0, 0.5, 'Frequency')"
            ]
          },
          "metadata": {},
          "execution_count": 96
        },
        {
          "output_type": "display_data",
          "data": {
            "text/plain": [
              "<Figure size 432x288 with 1 Axes>"
            ],
            "image/png": "[encoded data removed]"
          },
          "metadata": {
            "needs_background": "light"
          }
        }
      ]
    },
    {
      "cell_type": "markdown",
      "source": [
        "# PART I: Building Logistic Regression Model"
      ],
      "metadata": {
        "id": "RXxO2gVYgozC"
      }
    },
    {
      "cell_type": "markdown",
      "source": [
        "### Model 0"
      ],
      "metadata": {
        "id": "2tpj15qZrBLe"
      }
    },
    {
      "cell_type": "code",
      "source": [
        "# define a function to get metrics\n",
        "def model_eval(y_test, y_pred): \n",
        "  # confusion matrix\n",
        "  cm = confusion_matrix(y_test, y_pred)\n",
        "  # Classification report\n",
        "  cr = classification_report(y_test, y_pred)\n",
        "\n",
        "  print(cm)\n",
        "  print(\"-\"*50)\n",
        "  print(cr)\n",
        "  plot_roc_curve(logreg, X_test, y_test) \n",
        "  plt.show()"
      ],
      "metadata": {
        "id": "E97XYc1Op_4l"
      },
      "execution_count": null,
      "outputs": []
    },
    {
      "cell_type": "code",
      "source": [
        "X = df.loc[:, df.columns != 'cvd_4types']\n",
        "y = df.loc[:, df.columns == 'cvd_4types']\n",
        "\n",
        "X_train, X_test, y_train, y_test = train_test_split(X, y, test_size = 0.3, random_state = 101, stratify=y) # add stratified sampling to train test split\n",
        "\n",
        "# define model\n",
        "logreg = LogisticRegression(C=1e40, solver='newton-cg')\n",
        "\n",
        "# fit model\n",
        "logreg.fit(X_train, y_train)\n",
        "\n",
        "# make prediction\n",
        "y_pred = logreg.predict(X_test)"
      ],
      "metadata": {
        "colab": {
          "base_uri": "https://localhost:8080/"
        },
        "id": "YtYbCxc0vIrK",
        "outputId": "cb21e7cd-73c2-41fe-da63-036d3f69acd8"
      },
      "execution_count": null,
      "outputs": [
        {
          "output_type": "stream",
          "name": "stderr",
          "text": [
            "/usr/local/lib/python3.7/dist-packages/sklearn/utils/validation.py:993: DataConversionWarning: A column-vector y was passed when a 1d array was expected. Please change the shape of y to (n_samples, ), for example using ravel().\n",
            "  y = column_or_1d(y, warn=True)\n"
          ]
        }
      ]
    },
    {
      "cell_type": "code",
      "source": [
        "model_eval(y_test, y_pred)"
      ],
      "metadata": {
        "colab": {
          "base_uri": "https://localhost:8080/",
          "height": 548
        },
        "id": "CzqgL7AtqDS_",
        "outputId": "d38cb72a-18dc-49cd-daa5-0cae599119a6"
      },
      "execution_count": null,
      "outputs": [
        {
          "output_type": "stream",
          "name": "stdout",
          "text": [
            "[[189 210]\n",
            " [ 78 496]]\n",
            "--------------------------------------------------\n",
            "              precision    recall  f1-score   support\n",
            "\n",
            "           0       0.71      0.47      0.57       399\n",
            "           1       0.70      0.86      0.77       574\n",
            "\n",
            "    accuracy                           0.70       973\n",
            "   macro avg       0.71      0.67      0.67       973\n",
            "weighted avg       0.70      0.70      0.69       973\n",
            "\n"
          ]
        },
        {
          "output_type": "stream",
          "name": "stderr",
          "text": [
            "/usr/local/lib/python3.7/dist-packages/sklearn/utils/deprecation.py:87: FutureWarning: Function plot_roc_curve is deprecated; Function :func:`plot_roc_curve` is deprecated in 1.0 and will be removed in 1.2. Use one of the class methods: :meth:`sklearn.metric.RocCurveDisplay.from_predictions` or :meth:`sklearn.metric.RocCurveDisplay.from_estimator`.\n",
            "  warnings.warn(msg, category=FutureWarning)\n"
          ]
        },
        {
          "output_type": "display_data",
          "data": {
            "text/plain": [
              "<Figure size 432x288 with 1 Axes>"
            ],
            "image/png": "[encoded data removed]"
          },
          "metadata": {
            "needs_background": "light"
          }
        }
      ]
    },
    {
      "cell_type": "markdown",
      "source": [
        "**Interesting Observation:**"
      ],
      "metadata": {
        "id": "aNjJZzeZy3bA"
      }
    },
    {
      "cell_type": "markdown",
      "source": [
        "As the metrics shown, the model's accuracy is acceptable, however, the recall of the model is very poor. Which is a little strange actually. The sample data has more positive than negative, one would assume a model trained on such data would be good at predicting positive cases. However, the recall for positive prediction is very poor at 47%, and the recall for prediction negative is 86%. \n",
        "\n",
        "In any case, this is not a reliable model. We will do some balancing using both under-sampling and over-sampling techniques."
      ],
      "metadata": {
        "id": "LJCMBzbxyBva"
      }
    },
    {
      "cell_type": "markdown",
      "source": [
        "### Model 1 - under-sampling"
      ],
      "metadata": {
        "id": "rsq5stR9ngqL"
      }
    },
    {
      "cell_type": "markdown",
      "source": [
        "Let's try undersampling"
      ],
      "metadata": {
        "id": "0f3hQW_PtGHw"
      }
    },
    {
      "cell_type": "code",
      "source": [
        "df.cvd_4types.value_counts()"
      ],
      "metadata": {
        "colab": {
          "base_uri": "https://localhost:8080/"
        },
        "id": "8PjKP-Blr2dl",
        "outputId": "af7ba24a-51b3-45e7-dfc4-c453d4702f89"
      },
      "execution_count": null,
      "outputs": [
        {
          "output_type": "execute_result",
          "data": {
            "text/plain": [
              "1    1913\n",
              "0    1329\n",
              "Name: cvd_4types, dtype: int64"
            ]
          },
          "metadata": {},
          "execution_count": 100
        }
      ]
    },
    {
      "cell_type": "code",
      "source": [
        "# get count for no risk\n",
        "num_norisk = len(df[df['cvd_4types'] == 0])\n",
        "\n",
        "# get indices for risk present samples\n",
        "risk_indices = df[df.cvd_4types == 1].index\n",
        "\n",
        "# random sample of risk present data\n",
        "random_indices = np.random.choice(risk_indices,num_norisk, replace=False)\n",
        "\n",
        "# get indices for no risk data\n",
        "norisk_indices = df[df.cvd_4types == 0].index\n",
        "\n",
        "# concat risk and no risk data\n",
        "under_sample_indices = np.concatenate([norisk_indices,random_indices])\n",
        "\n",
        "# get the under sampled df\n",
        "df_under = df.loc[under_sample_indices]\n",
        "print(df_under.cvd_4types.value_counts())"
      ],
      "metadata": {
        "colab": {
          "base_uri": "https://localhost:8080/"
        },
        "id": "fKF6WCRJtJvs",
        "outputId": "18cb4834-e9b9-4da7-e834-92948e2ca90e"
      },
      "execution_count": null,
      "outputs": [
        {
          "output_type": "stream",
          "name": "stdout",
          "text": [
            "0    1329\n",
            "1    1329\n",
            "Name: cvd_4types, dtype: int64\n"
          ]
        }
      ]
    },
    {
      "cell_type": "code",
      "source": [
        "X = df_under.loc[:, df_under.columns != 'cvd_4types']\n",
        "y = df_under.loc[:, df_under.columns == 'cvd_4types']\n",
        "\n",
        "X_train, X_test, y_train, y_test = train_test_split(X, y, test_size = 0.3, random_state = 101)\n",
        "\n",
        "# define model\n",
        "logreg = LogisticRegression(C=1e40, solver='newton-cg')\n",
        "\n",
        "# fit model\n",
        "logreg.fit(X_train, y_train)\n",
        "\n",
        "# make prediction\n",
        "y_pred = logreg.predict(X_test)\n",
        "\n",
        "model_eval(y_test, y_pred)"
      ],
      "metadata": {
        "colab": {
          "base_uri": "https://localhost:8080/",
          "height": 584
        },
        "id": "zVdcRS-9uosZ",
        "outputId": "a41631e8-6167-417d-cbbc-f4b8bff3b05f"
      },
      "execution_count": null,
      "outputs": [
        {
          "output_type": "stream",
          "name": "stderr",
          "text": [
            "/usr/local/lib/python3.7/dist-packages/sklearn/utils/validation.py:993: DataConversionWarning: A column-vector y was passed when a 1d array was expected. Please change the shape of y to (n_samples, ), for example using ravel().\n",
            "  y = column_or_1d(y, warn=True)\n"
          ]
        },
        {
          "output_type": "stream",
          "name": "stdout",
          "text": [
            "[[254 166]\n",
            " [112 266]]\n",
            "--------------------------------------------------\n",
            "              precision    recall  f1-score   support\n",
            "\n",
            "           0       0.69      0.60      0.65       420\n",
            "           1       0.62      0.70      0.66       378\n",
            "\n",
            "    accuracy                           0.65       798\n",
            "   macro avg       0.65      0.65      0.65       798\n",
            "weighted avg       0.66      0.65      0.65       798\n",
            "\n"
          ]
        },
        {
          "output_type": "stream",
          "name": "stderr",
          "text": [
            "/usr/local/lib/python3.7/dist-packages/sklearn/utils/deprecation.py:87: FutureWarning: Function plot_roc_curve is deprecated; Function :func:`plot_roc_curve` is deprecated in 1.0 and will be removed in 1.2. Use one of the class methods: :meth:`sklearn.metric.RocCurveDisplay.from_predictions` or :meth:`sklearn.metric.RocCurveDisplay.from_estimator`.\n",
            "  warnings.warn(msg, category=FutureWarning)\n"
          ]
        },
        {
          "output_type": "display_data",
          "data": {
            "text/plain": [
              "<Figure size 432x288 with 1 Axes>"
            ],
            "image/png": "[encoded data removed]"
          },
          "metadata": {
            "needs_background": "light"
          }
        }
      ]
    },
    {
      "cell_type": "markdown",
      "source": [
        "Undersampling performs slightly more reliable than using the unchanged dataset. But let's see if we can do better by using SMOTE\n"
      ],
      "metadata": {
        "id": "kmOlDpFuwlcl"
      }
    },
    {
      "cell_type": "markdown",
      "source": [
        "As we can see the model is not quite satisfying. Let's try use a different sample method"
      ],
      "metadata": {
        "id": "xASCdfxNnNf1"
      }
    },
    {
      "cell_type": "markdown",
      "source": [
        "### Model 2 - over-sampling with SMOTE"
      ],
      "metadata": {
        "id": "qZSWvE0QndxV"
      }
    },
    {
      "cell_type": "markdown",
      "source": [
        "First we need to balance our dataset. <br>\n",
        "In this project we will use SMOTE over-sampling technique <br>\n",
        "At a high level, [SMOTE](https://arxiv.org/pdf/1106.1813.pdf):\n",
        "\n",
        "1. Works by creating synthetic samples from the minor class (no-subscription) instead of creating copies.\n",
        "2. Randomly choosing one of the k-nearest-neighbors and using it to create a similar, but randomly tweaked, new observations."
      ],
      "metadata": {
        "id": "pCIW0PQZgtqR"
      }
    },
    {
      "cell_type": "code",
      "source": [
        "# seperate dependent and independent variables \n",
        "X = df.loc[:, df.columns != 'cvd_4types']\n",
        "y = df.loc[:, df.columns == 'cvd_4types']"
      ],
      "metadata": {
        "id": "y5EUWmkxipOO"
      },
      "execution_count": null,
      "outputs": []
    },
    {
      "cell_type": "code",
      "source": [
        "# set random state to 101 so the randomness can be recreated, change to 0 for random every run\n",
        "os = SMOTE() \n",
        "\n",
        "# split data into train and split\n",
        "X_train, X_test, y_train, y_test = train_test_split(X, y, test_size = 0.3, random_state = 101)\n",
        "columns = X_train.columns \n",
        "\n",
        "os_data_X, os_data_y = os.fit_resample(X_train, y_train)\n",
        "os_data_X = pd.DataFrame(data = os_data_X, columns = columns)\n",
        "os_data_y = pd.DataFrame(data = os_data_y, columns = ['cvd_4types'])\n",
        "\n",
        "# check the numbers of our data\n",
        "print('Length of oversampled data is ', len(os_data_X))\n",
        "print('Number of \"No Risk\" in oversampled data is ', len(os_data_y[os_data_y['cvd_4types'] == 0]))\n",
        "print('Number of \"Risk Present\" is ',  len(os_data_y[os_data_y['cvd_4types'] == 1]))\n",
        "print('Proportion of \"No Risk\" data in oversampled data is ', len(os_data_y[os_data_y['cvd_4types'] == 0])/len(os_data_X))\n",
        "print('Proportion of \"Risk Present\" data in oversampled data is ', len(os_data_y[os_data_y['cvd_4types'] == 1])/len(os_data_X))"
      ],
      "metadata": {
        "colab": {
          "base_uri": "https://localhost:8080/"
        },
        "id": "bNUZJkvOgwFu",
        "outputId": "0456ec1a-7095-4e01-ab09-21f78e627828"
      },
      "execution_count": null,
      "outputs": [
        {
          "output_type": "stream",
          "name": "stdout",
          "text": [
            "Length of oversampled data is  2710\n",
            "Number of \"No Risk\" in oversampled data is  1355\n",
            "Number of \"Risk Present\" is  1355\n",
            "Proportion of \"No Risk\" data in oversampled data is  0.5\n",
            "Proportion of \"Risk Present\" data in oversampled data is  0.5\n"
          ]
        }
      ]
    },
    {
      "cell_type": "markdown",
      "source": [
        "Now the sample data has been balanced we can start building our logistic regression model"
      ],
      "metadata": {
        "id": "QFtNcTo2jhnU"
      }
    },
    {
      "cell_type": "code",
      "source": [
        "# define model\n",
        "logreg = LogisticRegression(C=1e40, solver='newton-cg')\n",
        "\n",
        "# fit model\n",
        "logreg = logreg.fit(os_data_X, os_data_y)\n",
        "\n",
        "# make prediction\n",
        "y_pred = logreg.predict(X_test)"
      ],
      "metadata": {
        "colab": {
          "base_uri": "https://localhost:8080/"
        },
        "id": "mcO6abJ4jqwc",
        "outputId": "96de60e6-2d57-49a6-9cc5-d622c508e2cb"
      },
      "execution_count": null,
      "outputs": [
        {
          "output_type": "stream",
          "name": "stderr",
          "text": [
            "/usr/local/lib/python3.7/dist-packages/sklearn/utils/validation.py:993: DataConversionWarning: A column-vector y was passed when a 1d array was expected. Please change the shape of y to (n_samples, ), for example using ravel().\n",
            "  y = column_or_1d(y, warn=True)\n"
          ]
        }
      ]
    },
    {
      "cell_type": "code",
      "source": [
        "model_eval(y_test, y_pred)"
      ],
      "metadata": {
        "colab": {
          "base_uri": "https://localhost:8080/",
          "height": 548
        },
        "id": "oKgpzeaamqmx",
        "outputId": "aafb59fa-af3f-4a03-8be4-989ddf0d0678"
      },
      "execution_count": null,
      "outputs": [
        {
          "output_type": "stream",
          "name": "stdout",
          "text": [
            "[[272 143]\n",
            " [198 360]]\n",
            "--------------------------------------------------\n",
            "              precision    recall  f1-score   support\n",
            "\n",
            "           0       0.58      0.66      0.61       415\n",
            "           1       0.72      0.65      0.68       558\n",
            "\n",
            "    accuracy                           0.65       973\n",
            "   macro avg       0.65      0.65      0.65       973\n",
            "weighted avg       0.66      0.65      0.65       973\n",
            "\n"
          ]
        },
        {
          "output_type": "stream",
          "name": "stderr",
          "text": [
            "/usr/local/lib/python3.7/dist-packages/sklearn/utils/deprecation.py:87: FutureWarning: Function plot_roc_curve is deprecated; Function :func:`plot_roc_curve` is deprecated in 1.0 and will be removed in 1.2. Use one of the class methods: :meth:`sklearn.metric.RocCurveDisplay.from_predictions` or :meth:`sklearn.metric.RocCurveDisplay.from_estimator`.\n",
            "  warnings.warn(msg, category=FutureWarning)\n"
          ]
        },
        {
          "output_type": "display_data",
          "data": {
            "text/plain": [
              "<Figure size 432x288 with 1 Axes>"
            ],
            "image/png": "[encoded data removed]"
          },
          "metadata": {
            "needs_background": "light"
          }
        }
      ]
    },
    {
      "cell_type": "markdown",
      "source": [
        "### Model 3: continuation of Model 2"
      ],
      "metadata": {
        "id": "Ff6A-0u4z3fw"
      }
    },
    {
      "cell_type": "markdown",
      "source": [
        "**Recursive Feature Elimination**\n",
        "\n",
        "[Recursive Feature Elimination (RFE)](https://scikit-learn.org/stable/modules/generated/sklearn.feature_selection.RFE.html) is based on the idea to repeatedly construct a model and choose either the best or worst performing feature, setting the feature aside and then repeating the process with the rest of the features. This process is applied until all features in the dataset are exhausted. The goal of RFE is to select feature by recursively considering smaller and smaller sets of features."
      ],
      "metadata": {
        "id": "g15RKpMoz8Jx"
      }
    },
    {
      "cell_type": "code",
      "source": [
        "# get a list of variables\n",
        "data_final_vars = df.columns.tolist()\n",
        "y = ['cvd_4types']\n",
        "X = [i for i in data_final_vars if i not in y]\n",
        "\n",
        "rfe = RFE(logreg, n_features_to_select = 12)\n",
        "rfe = rfe.fit(os_data_X, os_data_y)\n",
        "print(rfe.support_)\n",
        "print(rfe.ranking_)"
      ],
      "metadata": {
        "colab": {
          "base_uri": "https://localhost:8080/"
        },
        "id": "CLtPbCWRz7wI",
        "outputId": "fc5f9fb7-70f8-4677-f502-0fa58c341c2e"
      },
      "execution_count": null,
      "outputs": [
        {
          "output_type": "stream",
          "name": "stderr",
          "text": [
            "/usr/local/lib/python3.7/dist-packages/sklearn/utils/validation.py:993: DataConversionWarning: A column-vector y was passed when a 1d array was expected. Please change the shape of y to (n_samples, ), for example using ravel().\n",
            "  y = column_or_1d(y, warn=True)\n",
            "/usr/local/lib/python3.7/dist-packages/sklearn/utils/validation.py:993: DataConversionWarning: A column-vector y was passed when a 1d array was expected. Please change the shape of y to (n_samples, ), for example using ravel().\n",
            "  y = column_or_1d(y, warn=True)\n",
            "/usr/local/lib/python3.7/dist-packages/sklearn/utils/validation.py:993: DataConversionWarning: A column-vector y was passed when a 1d array was expected. Please change the shape of y to (n_samples, ), for example using ravel().\n",
            "  y = column_or_1d(y, warn=True)\n",
            "/usr/local/lib/python3.7/dist-packages/sklearn/utils/validation.py:993: DataConversionWarning: A column-vector y was passed when a 1d array was expected. Please change the shape of y to (n_samples, ), for example using ravel().\n",
            "  y = column_or_1d(y, warn=True)\n",
            "/usr/local/lib/python3.7/dist-packages/sklearn/utils/validation.py:993: DataConversionWarning: A column-vector y was passed when a 1d array was expected. Please change the shape of y to (n_samples, ), for example using ravel().\n",
            "  y = column_or_1d(y, warn=True)\n"
          ]
        },
        {
          "output_type": "stream",
          "name": "stdout",
          "text": [
            "[False  True  True  True  True  True  True False False False  True  True\n",
            "  True  True  True  True]\n",
            "[5 1 1 1 1 1 1 2 4 3 1 1 1 1 1 1]\n"
          ]
        }
      ]
    },
    {
      "cell_type": "code",
      "source": [
        "# get selected features\n",
        "X_selected = []\n",
        "\n",
        "for i in range(len(rfe.support_)):\n",
        "  if rfe.support_[i] == True:\n",
        "    X_selected.append(X[i])\n",
        "X_selected"
      ],
      "metadata": {
        "colab": {
          "base_uri": "https://localhost:8080/"
        },
        "id": "7yz2ONXf0R08",
        "outputId": "8dbd4b81-75b8-43a5-81af-b6ee1a8f558e"
      },
      "execution_count": null,
      "outputs": [
        {
          "output_type": "execute_result",
          "data": {
            "text/plain": [
              "['race',\n",
              " 'educat',\n",
              " 'mstat',\n",
              " 'hip',\n",
              " 'neck20',\n",
              " 'waist',\n",
              " 'srhype',\n",
              " 'parrptdiab',\n",
              " 'bend25',\n",
              " 'happy25',\n",
              " 'tired25',\n",
              " 'hlthlm25']"
            ]
          },
          "metadata": {},
          "execution_count": 108
        }
      ]
    },
    {
      "cell_type": "code",
      "source": [
        "# set X and y\n",
        "X = os_data_X[X_selected]\n",
        "y = os_data_y['cvd_4types']\n",
        "\n",
        "# select variables based on statistics \n",
        "logit_model = sm.Logit(y, X)\n",
        "result = logit_model.fit()\n",
        "print(result.summary2())"
      ],
      "metadata": {
        "colab": {
          "base_uri": "https://localhost:8080/"
        },
        "id": "KeIH-oDazozI",
        "outputId": "9f34279c-0ceb-4cb2-d91c-abb7c3c2e59e"
      },
      "execution_count": null,
      "outputs": [
        {
          "output_type": "stream",
          "name": "stdout",
          "text": [
            "Optimization terminated successfully.\n",
            "         Current function value: 0.614527\n",
            "         Iterations 5\n",
            "                         Results: Logit\n",
            "=================================================================\n",
            "Model:              Logit            Pseudo R-squared: 0.113     \n",
            "Dependent Variable: cvd_4types       AIC:              3354.7340 \n",
            "Date:               2022-03-29 23:38 BIC:              3425.5904 \n",
            "No. Observations:   2710             Log-Likelihood:   -1665.4   \n",
            "Df Model:           11               LL-Null:          -1878.4   \n",
            "Df Residuals:       2698             LLR p-value:      1.7261e-84\n",
            "Converged:          1.0000           Scale:            1.0000    \n",
            "No. Iterations:     5.0000                                       \n",
            "------------------------------------------------------------------\n",
            "              Coef.   Std.Err.     z      P>|z|    [0.025   0.975]\n",
            "------------------------------------------------------------------\n",
            "race         -0.7608    0.1482   -5.1341  0.0000  -1.0513  -0.4704\n",
            "educat        0.4972    0.0630    7.8876  0.0000   0.3737   0.6208\n",
            "mstat        -0.0724    0.0466   -1.5553  0.1199  -0.1637   0.0188\n",
            "hip          -0.0546    0.0053  -10.2364  0.0000  -0.0651  -0.0441\n",
            "neck20       -0.0559    0.0123   -4.5436  0.0000  -0.0800  -0.0318\n",
            "waist         0.0754    0.0057   13.3020  0.0000   0.0643   0.0866\n",
            "srhype        0.4503    0.0952    4.7314  0.0000   0.2638   0.6369\n",
            "parrptdiab    0.9215    0.2020    4.5620  0.0000   0.5256   1.3174\n",
            "bend25        0.2190    0.0666    3.2901  0.0010   0.0885   0.3494\n",
            "happy25       0.1175    0.0466    2.5214  0.0117   0.0262   0.2088\n",
            "tired25       0.2167    0.0465    4.6546  0.0000   0.1254   0.3079\n",
            "hlthlm25     -0.4098    0.0731   -5.6046  0.0000  -0.5531  -0.2665\n",
            "=================================================================\n",
            "\n"
          ]
        }
      ]
    },
    {
      "cell_type": "markdown",
      "source": [
        "Judging from the p-val, there are a number of variables that should be excluded from the model."
      ],
      "metadata": {
        "id": "3d7pZq0-1N40"
      }
    },
    {
      "cell_type": "code",
      "source": [
        "cols = [\n",
        " 'race',\n",
        " 'educat',\n",
        " 'hip',\n",
        " 'neck20',\n",
        " 'waist',\n",
        " 'av_weight_kg',\n",
        " 'srhype',\n",
        " 'parrptdiab',\n",
        " 'bend25',\n",
        " 'happy25',\n",
        " 'tired25',\n",
        " 'hlthlm25']\n",
        "\n",
        "X = os_data_X[cols]\n",
        "y = os_data_y['cvd_4types']\n",
        "\n",
        "logit_model = sm.Logit(y, X)\n",
        "result = logit_model.fit()\n",
        "print(result.summary2())"
      ],
      "metadata": {
        "colab": {
          "base_uri": "https://localhost:8080/"
        },
        "id": "ex7AaRCk1V8z",
        "outputId": "c694dc4f-8990-4043-dabe-2e1ea2ca6700"
      },
      "execution_count": null,
      "outputs": [
        {
          "output_type": "stream",
          "name": "stdout",
          "text": [
            "Optimization terminated successfully.\n",
            "         Current function value: 0.612867\n",
            "         Iterations 5\n",
            "                         Results: Logit\n",
            "=================================================================\n",
            "Model:              Logit            Pseudo R-squared: 0.116     \n",
            "Dependent Variable: cvd_4types       AIC:              3345.7396 \n",
            "Date:               2022-03-29 23:38 BIC:              3416.5960 \n",
            "No. Observations:   2710             Log-Likelihood:   -1660.9   \n",
            "Df Model:           11               LL-Null:          -1878.4   \n",
            "Df Residuals:       2698             LLR p-value:      2.1114e-86\n",
            "Converged:          1.0000           Scale:            1.0000    \n",
            "No. Iterations:     5.0000                                       \n",
            "------------------------------------------------------------------\n",
            "               Coef.   Std.Err.     z     P>|z|    [0.025   0.975]\n",
            "------------------------------------------------------------------\n",
            "race          -0.7212    0.1473  -4.8975  0.0000  -1.0099  -0.4326\n",
            "educat         0.4944    0.0631   7.8402  0.0000   0.3708   0.6180\n",
            "hip           -0.0510    0.0055  -9.3329  0.0000  -0.0617  -0.0403\n",
            "neck20        -0.0383    0.0133  -2.8713  0.0041  -0.0644  -0.0122\n",
            "waist          0.0812    0.0059  13.6572  0.0000   0.0695   0.0928\n",
            "av_weight_kg  -0.0241    0.0074  -3.2478  0.0012  -0.0386  -0.0096\n",
            "srhype         0.4827    0.0960   5.0293  0.0000   0.2946   0.6708\n",
            "parrptdiab     0.9089    0.2027   4.4848  0.0000   0.5117   1.3061\n",
            "bend25         0.2336    0.0669   3.4924  0.0005   0.1025   0.3647\n",
            "happy25        0.1313    0.0469   2.7971  0.0052   0.0393   0.2233\n",
            "tired25        0.2277    0.0469   4.8584  0.0000   0.1359   0.3196\n",
            "hlthlm25      -0.3726    0.0741  -5.0252  0.0000  -0.5179  -0.2273\n",
            "=================================================================\n",
            "\n"
          ]
        }
      ]
    },
    {
      "cell_type": "code",
      "source": [
        "# build logreg model\n",
        "X_train, X_test, y_train, y_test = train_test_split(X, y, test_size=0.3, random_state=101)\n",
        "\n",
        "logreg = LogisticRegression(C=1e40, solver='newton-cg')\n",
        "logreg.fit(X_train, y_train)\n",
        "\n",
        "y_pred = logreg.predict(X_test)"
      ],
      "metadata": {
        "id": "9OYs6VIi1oMd"
      },
      "execution_count": null,
      "outputs": []
    },
    {
      "cell_type": "code",
      "source": [
        "model_eval(y_test, y_pred)"
      ],
      "metadata": {
        "colab": {
          "base_uri": "https://localhost:8080/",
          "height": 548
        },
        "id": "fgOxcC4q2Pm3",
        "outputId": "5a471de9-f437-44bf-d5c8-e2d1c6bcb5e5"
      },
      "execution_count": null,
      "outputs": [
        {
          "output_type": "stream",
          "name": "stdout",
          "text": [
            "[[253 146]\n",
            " [137 277]]\n",
            "--------------------------------------------------\n",
            "              precision    recall  f1-score   support\n",
            "\n",
            "           0       0.65      0.63      0.64       399\n",
            "           1       0.65      0.67      0.66       414\n",
            "\n",
            "    accuracy                           0.65       813\n",
            "   macro avg       0.65      0.65      0.65       813\n",
            "weighted avg       0.65      0.65      0.65       813\n",
            "\n"
          ]
        },
        {
          "output_type": "stream",
          "name": "stderr",
          "text": [
            "/usr/local/lib/python3.7/dist-packages/sklearn/utils/deprecation.py:87: FutureWarning: Function plot_roc_curve is deprecated; Function :func:`plot_roc_curve` is deprecated in 1.0 and will be removed in 1.2. Use one of the class methods: :meth:`sklearn.metric.RocCurveDisplay.from_predictions` or :meth:`sklearn.metric.RocCurveDisplay.from_estimator`.\n",
            "  warnings.warn(msg, category=FutureWarning)\n"
          ]
        },
        {
          "output_type": "display_data",
          "data": {
            "text/plain": [
              "<Figure size 432x288 with 1 Axes>"
            ],
            "image/png": "[encoded data removed]"
          },
          "metadata": {
            "needs_background": "light"
          }
        }
      ]
    },
    {
      "cell_type": "markdown",
      "source": [
        "### Model 4: Hyperparameter tuning - GridSearchCV \n",
        "\n",
        "Continuation of Model 3"
      ],
      "metadata": {
        "id": "ZHTabzJZ0mA0"
      }
    },
    {
      "cell_type": "code",
      "source": [
        "# define models and parameters\n",
        "model = LogisticRegression()\n",
        "solvers = ['newton-cg', 'lbfgs', 'liblinear', 'sag', 'saga']\n",
        "penalty = ['l2', 'l1']\n",
        "c_values = [10, 1.0, 0.1, 0.01, 0.0001, 1e40]\n",
        "\n",
        "# define grid search\n",
        "grid = dict(solver=solvers,penalty=penalty,C=c_values)\n",
        "cv = RepeatedStratifiedKFold(n_splits=10, n_repeats=1, random_state=1)\n",
        "grid_search = GridSearchCV(estimator=model, param_grid=grid, n_jobs=-1, cv=cv, scoring='accuracy',error_score=0)\n",
        "grid_result = grid_search.fit(X_train, y_train)\n",
        "\n",
        "# get hyperparameters\n",
        "params = grid_result.best_params_\n",
        "print(params)"
      ],
      "metadata": {
        "id": "3hr-anaZ0ley",
        "colab": {
          "base_uri": "https://localhost:8080/"
        },
        "outputId": "6283d437-6195-415c-ede2-90718192c764"
      },
      "execution_count": null,
      "outputs": [
        {
          "output_type": "stream",
          "name": "stdout",
          "text": [
            "{'C': 10, 'penalty': 'l2', 'solver': 'newton-cg'}\n"
          ]
        },
        {
          "output_type": "stream",
          "name": "stderr",
          "text": [
            "/usr/local/lib/python3.7/dist-packages/sklearn/model_selection/_validation.py:372: FitFailedWarning: \n",
            "180 fits failed out of a total of 600.\n",
            "The score on these train-test partitions for these parameters will be set to 0.\n",
            "If these failures are not expected, you can try to debug them by setting error_score='raise'.\n",
            "\n",
            "Below are more details about the failures:\n",
            "--------------------------------------------------------------------------------\n",
            "60 fits failed with the following error:\n",
            "Traceback (most recent call last):\n",
            "  File \"/usr/local/lib/python3.7/dist-packages/sklearn/model_selection/_validation.py\", line 680, in _fit_and_score\n",
            "    estimator.fit(X_train, y_train, **fit_params)\n",
            "  File \"/usr/local/lib/python3.7/dist-packages/sklearn/linear_model/_logistic.py\", line 1461, in fit\n",
            "    solver = _check_solver(self.solver, self.penalty, self.dual)\n",
            "  File \"/usr/local/lib/python3.7/dist-packages/sklearn/linear_model/_logistic.py\", line 449, in _check_solver\n",
            "    % (solver, penalty)\n",
            "ValueError: Solver newton-cg supports only 'l2' or 'none' penalties, got l1 penalty.\n",
            "\n",
            "--------------------------------------------------------------------------------\n",
            "60 fits failed with the following error:\n",
            "Traceback (most recent call last):\n",
            "  File \"/usr/local/lib/python3.7/dist-packages/sklearn/model_selection/_validation.py\", line 680, in _fit_and_score\n",
            "    estimator.fit(X_train, y_train, **fit_params)\n",
            "  File \"/usr/local/lib/python3.7/dist-packages/sklearn/linear_model/_logistic.py\", line 1461, in fit\n",
            "    solver = _check_solver(self.solver, self.penalty, self.dual)\n",
            "  File \"/usr/local/lib/python3.7/dist-packages/sklearn/linear_model/_logistic.py\", line 449, in _check_solver\n",
            "    % (solver, penalty)\n",
            "ValueError: Solver lbfgs supports only 'l2' or 'none' penalties, got l1 penalty.\n",
            "\n",
            "--------------------------------------------------------------------------------\n",
            "60 fits failed with the following error:\n",
            "Traceback (most recent call last):\n",
            "  File \"/usr/local/lib/python3.7/dist-packages/sklearn/model_selection/_validation.py\", line 680, in _fit_and_score\n",
            "    estimator.fit(X_train, y_train, **fit_params)\n",
            "  File \"/usr/local/lib/python3.7/dist-packages/sklearn/linear_model/_logistic.py\", line 1461, in fit\n",
            "    solver = _check_solver(self.solver, self.penalty, self.dual)\n",
            "  File \"/usr/local/lib/python3.7/dist-packages/sklearn/linear_model/_logistic.py\", line 449, in _check_solver\n",
            "    % (solver, penalty)\n",
            "ValueError: Solver sag supports only 'l2' or 'none' penalties, got l1 penalty.\n",
            "\n",
            "  warnings.warn(some_fits_failed_message, FitFailedWarning)\n"
          ]
        }
      ]
    },
    {
      "cell_type": "code",
      "source": [
        "logreg = LogisticRegression(C=1, solver='newton-cg')\n",
        "logreg.fit(X_train, y_train)\n",
        "\n",
        "y_pred = logreg.predict(X_test)\n",
        "model_eval(y_test, y_pred)"
      ],
      "metadata": {
        "colab": {
          "base_uri": "https://localhost:8080/",
          "height": 548
        },
        "id": "iW8C08Tq5GbI",
        "outputId": "71da2255-7513-49bf-f8f7-89d8bb8c59c8"
      },
      "execution_count": null,
      "outputs": [
        {
          "output_type": "stream",
          "name": "stdout",
          "text": [
            "[[253 146]\n",
            " [135 279]]\n",
            "--------------------------------------------------\n",
            "              precision    recall  f1-score   support\n",
            "\n",
            "           0       0.65      0.63      0.64       399\n",
            "           1       0.66      0.67      0.67       414\n",
            "\n",
            "    accuracy                           0.65       813\n",
            "   macro avg       0.65      0.65      0.65       813\n",
            "weighted avg       0.65      0.65      0.65       813\n",
            "\n"
          ]
        },
        {
          "output_type": "stream",
          "name": "stderr",
          "text": [
            "/usr/local/lib/python3.7/dist-packages/sklearn/utils/deprecation.py:87: FutureWarning: Function plot_roc_curve is deprecated; Function :func:`plot_roc_curve` is deprecated in 1.0 and will be removed in 1.2. Use one of the class methods: :meth:`sklearn.metric.RocCurveDisplay.from_predictions` or :meth:`sklearn.metric.RocCurveDisplay.from_estimator`.\n",
            "  warnings.warn(msg, category=FutureWarning)\n"
          ]
        },
        {
          "output_type": "display_data",
          "data": {
            "text/plain": [
              "<Figure size 432x288 with 1 Axes>"
            ],
            "image/png": "[encoded data removed]"
          },
          "metadata": {
            "needs_background": "light"
          }
        }
      ]
    },
    {
      "cell_type": "markdown",
      "source": [
        "# PART II: Feature Importance"
      ],
      "metadata": {
        "id": "BW0DZbSue4mV"
      }
    },
    {
      "cell_type": "code",
      "source": [
        "# use random forest classifier for feature importance\n",
        "\n",
        "# fit random forest\n",
        "rf = RandomForestClassifier()\n",
        "rf.fit(X, y)"
      ],
      "metadata": {
        "colab": {
          "base_uri": "https://localhost:8080/"
        },
        "id": "5btAYreBfOgD",
        "outputId": "4c93bb1e-b905-4f9f-e573-1c3d99fa12da"
      },
      "execution_count": null,
      "outputs": [
        {
          "output_type": "execute_result",
          "data": {
            "text/plain": [
              "RandomForestClassifier()"
            ]
          },
          "metadata": {},
          "execution_count": 115
        }
      ]
    },
    {
      "cell_type": "code",
      "source": [
        "# get feature importance\n",
        "rf.feature_importances_\n",
        "\n",
        "# turn it into a dataframe\n",
        "pd.DataFrame(rf.feature_importances_, index = X.columns, \n",
        "            columns = ['Importance']).sort_values(['Importance'], \n",
        "            ascending = False)"
      ],
      "metadata": {
        "colab": {
          "base_uri": "https://localhost:8080/",
          "height": 425
        },
        "id": "k4hFNq_Ri6b1",
        "outputId": "b6dd3d6c-a5c0-4e19-f383-e3c05bcff76d"
      },
      "execution_count": null,
      "outputs": [
        {
          "output_type": "execute_result",
          "data": {
            "text/plain": [
              "              Importance\n",
              "waist           0.189482\n",
              "av_weight_kg    0.170191\n",
              "hip             0.161987\n",
              "neck20          0.153934\n",
              "hlthlm25        0.064500\n",
              "educat          0.060316\n",
              "happy25         0.054898\n",
              "tired25         0.052110\n",
              "bend25          0.038193\n",
              "srhype          0.023399\n",
              "race            0.018957\n",
              "parrptdiab      0.012032"
            ],
            "text/html": [
              "\n",
              "  <div id=\"df-26bd8269-56e5-4dab-973d-a5275f997009\">\n",
              "    <div class=\"colab-df-container\">\n",
              "      <div>\n",
              "<style scoped>\n",
              "    .dataframe tbody tr th:only-of-type {\n",
              "        vertical-align: middle;\n",
              "    }\n",
              "\n",
              "    .dataframe tbody tr th {\n",
              "        vertical-align: top;\n",
              "    }\n",
              "\n",
              "    .dataframe thead th {\n",
              "        text-align: right;\n",
              "    }\n",
              "</style>\n",
              "<table border=\"1\" class=\"dataframe\">\n",
              "  <thead>\n",
              "    <tr style=\"text-align: right;\">\n",
              "      <th></th>\n",
              "      <th>Importance</th>\n",
              "    </tr>\n",
              "  </thead>\n",
              "  <tbody>\n",
              "    <tr>\n",
              "      <th>waist</th>\n",
              "      <td>0.189482</td>\n",
              "    </tr>\n",
              "    <tr>\n",
              "      <th>av_weight_kg</th>\n",
              "      <td>0.170191</td>\n",
              "    </tr>\n",
              "    <tr>\n",
              "      <th>hip</th>\n",
              "      <td>0.161987</td>\n",
              "    </tr>\n",
              "    <tr>\n",
              "      <th>neck20</th>\n",
              "      <td>0.153934</td>\n",
              "    </tr>\n",
              "    <tr>\n",
              "      <th>hlthlm25</th>\n",
              "      <td>0.064500</td>\n",
              "    </tr>\n",
              "    <tr>\n",
              "      <th>educat</th>\n",
              "      <td>0.060316</td>\n",
              "    </tr>\n",
              "    <tr>\n",
              "      <th>happy25</th>\n",
              "      <td>0.054898</td>\n",
              "    </tr>\n",
              "    <tr>\n",
              "      <th>tired25</th>\n",
              "      <td>0.052110</td>\n",
              "    </tr>\n",
              "    <tr>\n",
              "      <th>bend25</th>\n",
              "      <td>0.038193</td>\n",
              "    </tr>\n",
              "    <tr>\n",
              "      <th>srhype</th>\n",
              "      <td>0.023399</td>\n",
              "    </tr>\n",
              "    <tr>\n",
              "      <th>race</th>\n",
              "      <td>0.018957</td>\n",
              "    </tr>\n",
              "    <tr>\n",
              "      <th>parrptdiab</th>\n",
              "      <td>0.012032</td>\n",
              "    </tr>\n",
              "  </tbody>\n",
              "</table>\n",
              "</div>\n",
              "      <button class=\"colab-df-convert\" onclick=\"convertToInteractive('df-26bd8269-56e5-4dab-973d-a5275f997009')\"\n",
              "              title=\"Convert this dataframe to an interactive table.\"\n",
              "              style=\"display:none;\">\n",
              "        \n",
              "  <svg xmlns=\"http://www.w3.org/2000/svg\" height=\"24px\"viewBox=\"0 0 24 24\"\n",
              "       width=\"24px\">\n",
              "    <path d=\"M0 0h24v24H0V0z\" fill=\"none\"/>\n",
              "    <path d=\"M18.56 5.44l.94 2.06.94-2.06 2.06-.94-2.06-.94-.94-2.06-.94 2.06-2.06.94zm-11 1L8.5 8.5l.94-2.06 2.06-.94-2.06-.94L8.5 2.5l-.94 2.06-2.06.94zm10 10l.94 2.06.94-2.06 2.06-.94-2.06-.94-.94-2.06-.94 2.06-2.06.94z\"/><path d=\"M17.41 7.96l-1.37-1.37c-.4-.4-.92-.59-1.43-.59-.52 0-1.04.2-1.43.59L10.3 9.45l-7.72 7.72c-.78.78-.78 2.05 0 2.83L4 21.41c.39.39.9.59 1.41.59.51 0 1.02-.2 1.41-.59l7.78-7.78 2.81-2.81c.8-.78.8-2.07 0-2.86zM5.41 20L4 18.59l7.72-7.72 1.47 1.35L5.41 20z\"/>\n",
              "  </svg>\n",
              "      </button>\n",
              "      \n",
              "  <style>\n",
              "    .colab-df-container {\n",
              "      display:flex;\n",
              "      flex-wrap:wrap;\n",
              "      gap: 12px;\n",
              "    }\n",
              "\n",
              "    .colab-df-convert {\n",
              "      background-color: #E8F0FE;\n",
              "      border: none;\n",
              "      border-radius: 50%;\n",
              "      cursor: pointer;\n",
              "      display: none;\n",
              "      fill: #1967D2;\n",
              "      height: 32px;\n",
              "      padding: 0 0 0 0;\n",
              "      width: 32px;\n",
              "    }\n",
              "\n",
              "    .colab-df-convert:hover {\n",
              "      background-color: #E2EBFA;\n",
              "      box-shadow: 0px 1px 2px rgba(60, 64, 67, 0.3), 0px 1px 3px 1px rgba(60, 64, 67, 0.15);\n",
              "      fill: #174EA6;\n",
              "    }\n",
              "\n",
              "    [theme=dark] .colab-df-convert {\n",
              "      background-color: #3B4455;\n",
              "      fill: #D2E3FC;\n",
              "    }\n",
              "\n",
              "    [theme=dark] .colab-df-convert:hover {\n",
              "      background-color: #434B5C;\n",
              "      box-shadow: 0px 1px 3px 1px rgba(0, 0, 0, 0.15);\n",
              "      filter: drop-shadow(0px 1px 2px rgba(0, 0, 0, 0.3));\n",
              "      fill: #FFFFFF;\n",
              "    }\n",
              "  </style>\n",
              "\n",
              "      <script>\n",
              "        const buttonEl =\n",
              "          document.querySelector('#df-26bd8269-56e5-4dab-973d-a5275f997009 button.colab-df-convert');\n",
              "        buttonEl.style.display =\n",
              "          google.colab.kernel.accessAllowed ? 'block' : 'none';\n",
              "\n",
              "        async function convertToInteractive(key) {\n",
              "          const element = document.querySelector('#df-26bd8269-56e5-4dab-973d-a5275f997009');\n",
              "          const dataTable =\n",
              "            await google.colab.kernel.invokeFunction('convertToInteractive',\n",
              "                                                     [key], {});\n",
              "          if (!dataTable) return;\n",
              "\n",
              "          const docLinkHtml = 'Like what you see? Visit the ' +\n",
              "            '<a target=\"_blank\" href=https://colab.research.google.com/notebooks/data_table.ipynb>data table notebook</a>'\n",
              "            + ' to learn more about interactive tables.';\n",
              "          element.innerHTML = '';\n",
              "          dataTable['output_type'] = 'display_data';\n",
              "          await google.colab.output.renderOutput(dataTable, element);\n",
              "          const docLink = document.createElement('div');\n",
              "          docLink.innerHTML = docLinkHtml;\n",
              "          element.appendChild(docLink);\n",
              "        }\n",
              "      </script>\n",
              "    </div>\n",
              "  </div>\n",
              "  "
            ]
          },
          "metadata": {},
          "execution_count": 116
        }
      ]
    }
  ]
}